{
 "cells": [
  {
   "cell_type": "markdown",
   "id": "240842a2-2520-4dce-bd07-19e5ffd273f3",
   "metadata": {},
   "source": [
    "Load Dataset"
   ]
  },
  {
   "cell_type": "code",
   "execution_count": 46,
   "id": "ad61b13a-8dfb-44fa-b810-0bce699b85f9",
   "metadata": {},
   "outputs": [
    {
     "name": "stdout",
     "output_type": "stream",
     "text": [
      "  Transaction ID    Item Quantity Price Per Unit Total Spent  Payment Method  \\\n",
      "0    TXN_1961373  Coffee        2            2.0         4.0     Credit Card   \n",
      "1    TXN_4977031    Cake        4            3.0        12.0            Cash   \n",
      "2    TXN_4271903  Cookie        4            1.0       ERROR     Credit Card   \n",
      "3    TXN_7034554   Salad        2            5.0        10.0         UNKNOWN   \n",
      "4    TXN_3160411  Coffee        2            2.0         4.0  Digital Wallet   \n",
      "\n",
      "   Location Transaction Date  \n",
      "0  Takeaway       2023-09-08  \n",
      "1  In-store       2023-05-16  \n",
      "2  In-store       2023-07-19  \n",
      "3   UNKNOWN       2023-04-27  \n",
      "4  In-store       2023-06-11  \n"
     ]
    }
   ],
   "source": [
    "import pandas as pd\n",
    "import numpy as np\n",
    "\n",
    "df = pd.read_csv(r\"C:\\Users\\Sami\\OneDrive\\Desktop\\Data Sets\\dirty_cafe_sales.csv\")\n",
    "print(df.head())  \n"
   ]
  },
  {
   "cell_type": "code",
   "execution_count": 17,
   "id": "213e6722-ece5-4392-9d1b-d4ee42bb331d",
   "metadata": {},
   "outputs": [
    {
     "name": "stdout",
     "output_type": "stream",
     "text": [
      "     Transaction ID      Item Quantity Price Per Unit Total Spent  \\\n",
      "9995    TXN_7672686    Coffee        2            2.0         4.0   \n",
      "9996    TXN_9659401       NaN        3            NaN         3.0   \n",
      "9997    TXN_5255387    Coffee        4            2.0         8.0   \n",
      "9998    TXN_7695629    Cookie        3            NaN         3.0   \n",
      "9999    TXN_6170729  Sandwich        3            4.0        12.0   \n",
      "\n",
      "      Payment Method  Location Transaction Date  \n",
      "9995             NaN   UNKNOWN       2023-08-30  \n",
      "9996  Digital Wallet       NaN       2023-06-02  \n",
      "9997  Digital Wallet       NaN       2023-03-02  \n",
      "9998  Digital Wallet       NaN       2023-12-02  \n",
      "9999            Cash  In-store       2023-11-07  \n"
     ]
    }
   ],
   "source": [
    "print(df.tail())"
   ]
  },
  {
   "cell_type": "code",
   "execution_count": 19,
   "id": "4105f0f3-466e-4951-b14b-5d04895a0f16",
   "metadata": {},
   "outputs": [
    {
     "name": "stdout",
     "output_type": "stream",
     "text": [
      "rows 10000\n",
      "columns 8\n"
     ]
    }
   ],
   "source": [
    "print(\"rows\",df.shape[0])\n",
    "print(\"columns\",df.shape[1])"
   ]
  },
  {
   "cell_type": "code",
   "execution_count": 20,
   "id": "fb3765ab-4bc3-4e92-a9de-7401e62ccab9",
   "metadata": {},
   "outputs": [
    {
     "name": "stdout",
     "output_type": "stream",
     "text": [
      "Transaction ID         0\n",
      "Item                 333\n",
      "Quantity             138\n",
      "Price Per Unit       179\n",
      "Total Spent          173\n",
      "Payment Method      2579\n",
      "Location            3265\n",
      "Transaction Date     159\n",
      "dtype: int64\n"
     ]
    }
   ],
   "source": [
    "print(df.isnull().sum())"
   ]
  },
  {
   "cell_type": "code",
   "execution_count": 47,
   "id": "e3d0911f-0561-47f6-8ac7-87913fee7545",
   "metadata": {},
   "outputs": [],
   "source": [
    "df[\"Price Per Unit\"] = pd.to_numeric(df[\"Price Per Unit\"], errors='coerce')\n",
    "df[\"Price Per Unit\"] = df[\"Price Per Unit\"].fillna(df[\"Price Per Unit\"].mean())\n",
    "\n",
    "df[\"Quantity\"] = pd.to_numeric(df[\"Quantity\"], errors='coerce')\n",
    "df[\"Quantity\"] = df[\"Quantity\"].fillna(df[\"Quantity\"].mean())\n",
    "\n",
    "df[\"Total Spent\"] = pd.to_numeric(df[\"Total Spent\"], errors='coerce')\n",
    "df[\"Total Spent\"] = df[\"Total Spent\"].fillna(df[\"Total Spent\"].mean())"
   ]
  },
  {
   "cell_type": "code",
   "execution_count": 50,
   "id": "75c15cae-e4da-41b5-b623-b2e4ed190591",
   "metadata": {},
   "outputs": [],
   "source": [
    "df['Item'].fillna(df['Item'].mode()[0], inplace=True)\n",
    "df['Payment Method'].fillna(df['Payment Method'].mode()[0], inplace=True)\n",
    "df['Location'].fillna(df['Location'].mode()[0], inplace=True)\n",
    "df['Transaction Date'].fillna(df['Transaction Date'].mode()[0], inplace=True)"
   ]
  },
  {
   "cell_type": "code",
   "execution_count": 51,
   "id": "81aa761e-543c-489a-8889-4eb6245513b5",
   "metadata": {},
   "outputs": [
    {
     "name": "stdout",
     "output_type": "stream",
     "text": [
      "Transaction ID      0\n",
      "Item                0\n",
      "Quantity            0\n",
      "Price Per Unit      0\n",
      "Total Spent         0\n",
      "Payment Method      0\n",
      "Location            0\n",
      "Transaction Date    0\n",
      "dtype: int64\n"
     ]
    }
   ],
   "source": [
    "print(df.isnull().sum())"
   ]
  },
  {
   "cell_type": "code",
   "execution_count": 44,
   "id": "67527248-93ab-420b-aed2-732505399e35",
   "metadata": {},
   "outputs": [
    {
     "data": {
      "text/plain": [
       "Transaction ID       object\n",
       "Item                 object\n",
       "Quantity            float64\n",
       "Price Per Unit      float64\n",
       "Total Spent         float64\n",
       "Payment Method       object\n",
       "Location             object\n",
       "Transaction Date     object\n",
       "dtype: object"
      ]
     },
     "execution_count": 44,
     "metadata": {},
     "output_type": "execute_result"
    }
   ],
   "source": [
    "df.dtypes"
   ]
  },
  {
   "cell_type": "markdown",
   "id": "6d57f23b-0ab7-4e35-8a3c-31eba2357dbb",
   "metadata": {},
   "source": [
    "Data Pre-Processing"
   ]
  },
  {
   "cell_type": "code",
   "execution_count": 54,
   "id": "d2d799ae-afed-4984-bf67-de5cb29429af",
   "metadata": {},
   "outputs": [
    {
     "data": {
      "text/html": [
       "<div>\n",
       "<style scoped>\n",
       "    .dataframe tbody tr th:only-of-type {\n",
       "        vertical-align: middle;\n",
       "    }\n",
       "\n",
       "    .dataframe tbody tr th {\n",
       "        vertical-align: top;\n",
       "    }\n",
       "\n",
       "    .dataframe thead th {\n",
       "        text-align: right;\n",
       "    }\n",
       "</style>\n",
       "<table border=\"1\" class=\"dataframe\">\n",
       "  <thead>\n",
       "    <tr style=\"text-align: right;\">\n",
       "      <th></th>\n",
       "      <th>Transaction ID</th>\n",
       "      <th>Item</th>\n",
       "      <th>Quantity</th>\n",
       "      <th>Price Per Unit</th>\n",
       "      <th>Total Spent</th>\n",
       "      <th>Payment Method</th>\n",
       "      <th>Location</th>\n",
       "      <th>Transaction Date</th>\n",
       "    </tr>\n",
       "  </thead>\n",
       "  <tbody>\n",
       "    <tr>\n",
       "      <th>0</th>\n",
       "      <td>TXN_1961373</td>\n",
       "      <td>Coffee</td>\n",
       "      <td>2.0</td>\n",
       "      <td>2.000000</td>\n",
       "      <td>4.000000</td>\n",
       "      <td>Credit Card</td>\n",
       "      <td>Takeaway</td>\n",
       "      <td>2023-09-08</td>\n",
       "    </tr>\n",
       "    <tr>\n",
       "      <th>1</th>\n",
       "      <td>TXN_4977031</td>\n",
       "      <td>Cake</td>\n",
       "      <td>4.0</td>\n",
       "      <td>3.000000</td>\n",
       "      <td>12.000000</td>\n",
       "      <td>Cash</td>\n",
       "      <td>In-store</td>\n",
       "      <td>2023-05-16</td>\n",
       "    </tr>\n",
       "    <tr>\n",
       "      <th>2</th>\n",
       "      <td>TXN_4271903</td>\n",
       "      <td>Cookie</td>\n",
       "      <td>4.0</td>\n",
       "      <td>1.000000</td>\n",
       "      <td>8.924352</td>\n",
       "      <td>Credit Card</td>\n",
       "      <td>In-store</td>\n",
       "      <td>2023-07-19</td>\n",
       "    </tr>\n",
       "    <tr>\n",
       "      <th>3</th>\n",
       "      <td>TXN_7034554</td>\n",
       "      <td>Salad</td>\n",
       "      <td>2.0</td>\n",
       "      <td>5.000000</td>\n",
       "      <td>10.000000</td>\n",
       "      <td>UNKNOWN</td>\n",
       "      <td>UNKNOWN</td>\n",
       "      <td>2023-04-27</td>\n",
       "    </tr>\n",
       "    <tr>\n",
       "      <th>4</th>\n",
       "      <td>TXN_3160411</td>\n",
       "      <td>Coffee</td>\n",
       "      <td>2.0</td>\n",
       "      <td>2.000000</td>\n",
       "      <td>4.000000</td>\n",
       "      <td>Digital Wallet</td>\n",
       "      <td>In-store</td>\n",
       "      <td>2023-06-11</td>\n",
       "    </tr>\n",
       "    <tr>\n",
       "      <th>...</th>\n",
       "      <td>...</td>\n",
       "      <td>...</td>\n",
       "      <td>...</td>\n",
       "      <td>...</td>\n",
       "      <td>...</td>\n",
       "      <td>...</td>\n",
       "      <td>...</td>\n",
       "      <td>...</td>\n",
       "    </tr>\n",
       "    <tr>\n",
       "      <th>9995</th>\n",
       "      <td>TXN_7672686</td>\n",
       "      <td>Coffee</td>\n",
       "      <td>2.0</td>\n",
       "      <td>2.000000</td>\n",
       "      <td>4.000000</td>\n",
       "      <td>Digital Wallet</td>\n",
       "      <td>UNKNOWN</td>\n",
       "      <td>2023-08-30</td>\n",
       "    </tr>\n",
       "    <tr>\n",
       "      <th>9996</th>\n",
       "      <td>TXN_9659401</td>\n",
       "      <td>Juice</td>\n",
       "      <td>3.0</td>\n",
       "      <td>2.949984</td>\n",
       "      <td>3.000000</td>\n",
       "      <td>Digital Wallet</td>\n",
       "      <td>Takeaway</td>\n",
       "      <td>2023-06-02</td>\n",
       "    </tr>\n",
       "    <tr>\n",
       "      <th>9997</th>\n",
       "      <td>TXN_5255387</td>\n",
       "      <td>Coffee</td>\n",
       "      <td>4.0</td>\n",
       "      <td>2.000000</td>\n",
       "      <td>8.000000</td>\n",
       "      <td>Digital Wallet</td>\n",
       "      <td>Takeaway</td>\n",
       "      <td>2023-03-02</td>\n",
       "    </tr>\n",
       "    <tr>\n",
       "      <th>9998</th>\n",
       "      <td>TXN_7695629</td>\n",
       "      <td>Cookie</td>\n",
       "      <td>3.0</td>\n",
       "      <td>2.949984</td>\n",
       "      <td>3.000000</td>\n",
       "      <td>Digital Wallet</td>\n",
       "      <td>Takeaway</td>\n",
       "      <td>2023-12-02</td>\n",
       "    </tr>\n",
       "    <tr>\n",
       "      <th>9999</th>\n",
       "      <td>TXN_6170729</td>\n",
       "      <td>Sandwich</td>\n",
       "      <td>3.0</td>\n",
       "      <td>4.000000</td>\n",
       "      <td>12.000000</td>\n",
       "      <td>Cash</td>\n",
       "      <td>In-store</td>\n",
       "      <td>2023-11-07</td>\n",
       "    </tr>\n",
       "  </tbody>\n",
       "</table>\n",
       "<p>10000 rows × 8 columns</p>\n",
       "</div>"
      ],
      "text/plain": [
       "     Transaction ID      Item  Quantity  Price Per Unit  Total Spent  \\\n",
       "0       TXN_1961373    Coffee       2.0        2.000000     4.000000   \n",
       "1       TXN_4977031      Cake       4.0        3.000000    12.000000   \n",
       "2       TXN_4271903    Cookie       4.0        1.000000     8.924352   \n",
       "3       TXN_7034554     Salad       2.0        5.000000    10.000000   \n",
       "4       TXN_3160411    Coffee       2.0        2.000000     4.000000   \n",
       "...             ...       ...       ...             ...          ...   \n",
       "9995    TXN_7672686    Coffee       2.0        2.000000     4.000000   \n",
       "9996    TXN_9659401     Juice       3.0        2.949984     3.000000   \n",
       "9997    TXN_5255387    Coffee       4.0        2.000000     8.000000   \n",
       "9998    TXN_7695629    Cookie       3.0        2.949984     3.000000   \n",
       "9999    TXN_6170729  Sandwich       3.0        4.000000    12.000000   \n",
       "\n",
       "      Payment Method  Location Transaction Date  \n",
       "0        Credit Card  Takeaway       2023-09-08  \n",
       "1               Cash  In-store       2023-05-16  \n",
       "2        Credit Card  In-store       2023-07-19  \n",
       "3            UNKNOWN   UNKNOWN       2023-04-27  \n",
       "4     Digital Wallet  In-store       2023-06-11  \n",
       "...              ...       ...              ...  \n",
       "9995  Digital Wallet   UNKNOWN       2023-08-30  \n",
       "9996  Digital Wallet  Takeaway       2023-06-02  \n",
       "9997  Digital Wallet  Takeaway       2023-03-02  \n",
       "9998  Digital Wallet  Takeaway       2023-12-02  \n",
       "9999            Cash  In-store       2023-11-07  \n",
       "\n",
       "[10000 rows x 8 columns]"
      ]
     },
     "execution_count": 54,
     "metadata": {},
     "output_type": "execute_result"
    }
   ],
   "source": [
    "df.fillna(0)    \n",
    "df.dropna()        \n"
   ]
  },
  {
   "cell_type": "code",
   "execution_count": 64,
   "id": "083f92f7-842e-4996-a5d1-686d462eabaf",
   "metadata": {},
   "outputs": [
    {
     "name": "stdout",
     "output_type": "stream",
     "text": [
      "      Transaction ID      Item  Quantity  Price Per Unit  Total Spent  \\\n",
      "0            1961373    Coffee         2        2.000000     4.000000   \n",
      "1            4977031      Cake         4        3.000000    12.000000   \n",
      "2            4271903    Cookie         4        1.000000     8.924352   \n",
      "3            7034554     Salad         2        5.000000    10.000000   \n",
      "4            3160411    Coffee         2        2.000000     4.000000   \n",
      "...              ...       ...       ...             ...          ...   \n",
      "9995         7672686    Coffee         2        2.000000     4.000000   \n",
      "9996         9659401     Juice         3        2.949984     3.000000   \n",
      "9997         5255387    Coffee         4        2.000000     8.000000   \n",
      "9998         7695629    Cookie         3        2.949984     3.000000   \n",
      "9999         6170729  Sandwich         3        4.000000    12.000000   \n",
      "\n",
      "      Payment Method  Location Transaction Date  \n",
      "0        Credit Card  Takeaway       2023-09-08  \n",
      "1               Cash  In-store       2023-05-16  \n",
      "2        Credit Card  In-store       2023-07-19  \n",
      "3            UNKNOWN   UNKNOWN       2023-04-27  \n",
      "4     Digital Wallet  In-store       2023-06-11  \n",
      "...              ...       ...              ...  \n",
      "9995  Digital Wallet   UNKNOWN       2023-08-30  \n",
      "9996  Digital Wallet  Takeaway       2023-06-02  \n",
      "9997  Digital Wallet  Takeaway       2023-03-02  \n",
      "9998  Digital Wallet  Takeaway       2023-12-02  \n",
      "9999            Cash  In-store       2023-11-07  \n",
      "\n",
      "[9540 rows x 8 columns]\n"
     ]
    }
   ],
   "source": [
    "df.drop_duplicates(inplace=True)\n",
    "print(df)"
   ]
  },
  {
   "cell_type": "code",
   "execution_count": 60,
   "id": "556ce92f-57bb-4c7b-a108-c3853b9a422f",
   "metadata": {},
   "outputs": [
    {
     "name": "stdout",
     "output_type": "stream",
     "text": [
      "Transaction ID               int64\n",
      "Item                        object\n",
      "Quantity                     int32\n",
      "Price Per Unit             float64\n",
      "Total Spent                float64\n",
      "Payment Method              object\n",
      "Location                    object\n",
      "Transaction Date    datetime64[ns]\n",
      "dtype: object\n",
      "   Transaction ID    Item  Quantity  Price Per Unit  Total Spent  \\\n",
      "0         1961373  Coffee         2             2.0     4.000000   \n",
      "1         4977031    Cake         4             3.0    12.000000   \n",
      "2         4271903  Cookie         4             1.0     8.924352   \n",
      "3         7034554   Salad         2             5.0    10.000000   \n",
      "4         3160411  Coffee         2             2.0     4.000000   \n",
      "\n",
      "   Payment Method  Location Transaction Date  \n",
      "0     Credit Card  Takeaway       2023-09-08  \n",
      "1            Cash  In-store       2023-05-16  \n",
      "2     Credit Card  In-store       2023-07-19  \n",
      "3         UNKNOWN   UNKNOWN       2023-04-27  \n",
      "4  Digital Wallet  In-store       2023-06-11  \n"
     ]
    }
   ],
   "source": [
    "# Convert numeric columns\n",
    "df['Quantity'] = pd.to_numeric(df['Quantity'], errors='coerce')\n",
    "df['Price Per Unit'] = pd.to_numeric(df['Price Per Unit'], errors='coerce')\n",
    "df['Total Spent'] = pd.to_numeric(df['Total Spent'], errors='coerce')\n",
    "\n",
    "df['Transaction Date'] = pd.to_datetime(df['Transaction Date'], errors='coerce')\n",
    "\n",
    "df['Transaction ID'] = df['Transaction ID'].str.replace('TXN_', '', regex=False)\n",
    "df['Transaction ID'] = pd.to_numeric(df['Transaction ID'], errors='coerce')\n",
    "\n",
    "df.dropna(subset=['Transaction ID', 'Quantity', 'Price Per Unit', 'Total Spent', 'Transaction Date'], inplace=True)\n",
    "print(df.dtypes)\n",
    "\n",
    "print(df.head())"
   ]
  },
  {
   "cell_type": "code",
   "execution_count": 62,
   "id": "a649238a-9c1b-4539-8950-b54d792f36e3",
   "metadata": {},
   "outputs": [],
   "source": [
    "df.to_csv(r'C:\\Users\\Sami\\OneDrive\\Desktop\\Data Sets\\cleaned_cafe_sales.csv', index=False)\n"
   ]
  },
  {
   "cell_type": "code",
   "execution_count": 65,
   "id": "c2f36821-2f18-407f-bd9d-0fc9ca8d56b7",
   "metadata": {},
   "outputs": [
    {
     "name": "stdout",
     "output_type": "stream",
     "text": [
      "\n",
      "Model Evaluation:\n",
      "Mean Absolute Error (MAE): 1.660583087447134\n",
      "Mean Squared Error (MSE): 5.80507929830371\n",
      "R-squared (R2): 0.8298756749655132\n"
     ]
    }
   ],
   "source": [
    "from sklearn.model_selection import train_test_split\n",
    "from sklearn.linear_model import LinearRegression\n",
    "from sklearn.metrics import mean_absolute_error, mean_squared_error, r2_score\n",
    "\n",
    "# === 1. Feature Selection ===\n",
    "# Drop non-numeric or non-useful columns for prediction\n",
    "X = df[['Quantity', 'Price Per Unit']]  # Features\n",
    "y = df['Total Spent']  # Target variable\n",
    "\n",
    "# === 2. Train-Test Split ===\n",
    "X_train, X_test, y_train, y_test = train_test_split(X, y, test_size=0.2, random_state=42)\n",
    "\n",
    "# === 3. Choose and Train Model ===\n",
    "model = LinearRegression()\n",
    "model.fit(X_train, y_train)\n",
    "\n",
    "# === 4. Make Predictions ===\n",
    "y_pred = model.predict(X_test)\n",
    "\n",
    "# === 5. Evaluation ===\n",
    "print(\"\\nModel Evaluation:\")\n",
    "print(\"Mean Absolute Error (MAE):\", mean_absolute_error(y_test, y_pred))\n",
    "print(\"Mean Squared Error (MSE):\", mean_squared_error(y_test, y_pred))\n",
    "print(\"R-squared (R2):\", r2_score(y_test, y_pred))\n"
   ]
  }
 ],
 "metadata": {
  "kernelspec": {
   "display_name": "Python 3 (ipykernel)",
   "language": "python",
   "name": "python3"
  },
  "language_info": {
   "codemirror_mode": {
    "name": "ipython",
    "version": 3
   },
   "file_extension": ".py",
   "mimetype": "text/x-python",
   "name": "python",
   "nbconvert_exporter": "python",
   "pygments_lexer": "ipython3",
   "version": "3.11.7"
  }
 },
 "nbformat": 4,
 "nbformat_minor": 5
}
